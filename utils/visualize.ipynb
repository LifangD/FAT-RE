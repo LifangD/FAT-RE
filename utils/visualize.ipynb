{
 "cells": [
  {
   "cell_type": "code",
   "execution_count": 7,
   "metadata": {},
   "outputs": [
    {
     "name": "stdout",
     "output_type": "stream",
     "text": [
      "Vocab size 53953 loaded from file\n",
      "1065 batches created for dataset/tacred/train.json\n",
      "354 batches created for dataset/tacred/dev.json\n",
      "243 batches created for dataset/tacred/test.json\n"
     ]
    }
   ],
   "source": [
    "import os\n",
    "import sys\n",
    "from time import time\n",
    "import numpy as np\n",
    "import random\n",
    "import argparse\n",
    "import torch\n",
    "import torch.nn as nn\n",
    "from torch.autograd import Variable\n",
    "from utils.vocab import Vocab\n",
    "from data.loader import DataLoader\n",
    "from utils import torch_utils, scorer, constant, helper\n",
    "\n",
    "vocab_file = 'saved_models/00/vocab.pkl'\n",
    "vocab = Vocab(vocab_file, load=True)\n",
    "\n",
    "label_to_id = constant.LABEL_TO_ID\n",
    "id_to_label = {v: k for k, v in label_to_id.items()}\n",
    "\n",
    "deprel_to_id = constant.DEPREL_TO_ID\n",
    "id_to_deprel = {v: k for k, v in deprel_to_id.items()}\n",
    "\n",
    "parser = argparse.ArgumentParser()\n",
    "parser.add_argument('--data_dir', type=str, default='dataset/tacred')\n",
    "parser.add_argument('--batch_size', type=int, default=64, help='Training batch size.')\n",
    "parser.add_argument('--word_dropout', type=float, default=0, help='The rate at which randomly set a word to UNK.')\n",
    "parser.set_defaults(lower=False)\n",
    "args = parser.parse_args([])\n",
    "opt = vars(args)\n",
    "\n",
    "def unpack_batch(batch):\n",
    "    inputs = [Variable(b) for b in batch[:11]]\n",
    "    labels = Variable(batch[11])\n",
    "    tokens = batch[0]\n",
    "    head = batch[5]\n",
    "    subj_pos = batch[6]\n",
    "    obj_pos = batch[7]\n",
    "    lens = batch[1].eq(0).long().sum(1).squeeze()\n",
    "    return inputs, labels, tokens, head, subj_pos, obj_pos, lens\n",
    "\n",
    "train_batch = DataLoader(opt['data_dir'] + '/train.json', opt['batch_size'], opt, vocab, evaluation=True)\n",
    "dev_batch = DataLoader(opt['data_dir'] + '/dev.json', opt['batch_size'], opt, vocab, evaluation=True)\n",
    "test_batch = DataLoader(opt['data_dir'] + '/test.json', opt['batch_size'], opt, vocab, evaluation=True)"
   ]
  },
  {
   "cell_type": "code",
   "execution_count": 8,
   "metadata": {},
   "outputs": [],
   "source": [
    "# init calculate\n",
    "train_cal = dict()\n",
    "dev_cal = dict()\n",
    "test_cal = dict()\n",
    "for i in range(42):\n",
    "    train_cal[i] = 0\n",
    "    dev_cal[i] = 0\n",
    "    test_cal[i] = 0"
   ]
  },
  {
   "cell_type": "code",
   "execution_count": 11,
   "metadata": {},
   "outputs": [],
   "source": [
    "for batch in dev_batch:\n",
    "    inputs, labels, tokens, head, subj_pos, obj_pos, lens = unpack_batch(batch)\n",
    "    for lb in labels:\n",
    "        dev_cal[int(lb)] += 1"
   ]
  },
  {
   "cell_type": "code",
   "execution_count": 57,
   "metadata": {},
   "outputs": [],
   "source": [
    "train_base = 0\n",
    "for i in train_cal.values():\n",
    "    train_base += i\n",
    "    \n",
    "for i in train_cal.keys():\n",
    "    train_cal[i] = train_cal[i]/train_base"
   ]
  },
  {
   "cell_type": "code",
   "execution_count": 58,
   "metadata": {},
   "outputs": [],
   "source": [
    "train_cal[0] = 0"
   ]
  },
  {
   "cell_type": "code",
   "execution_count": 61,
   "metadata": {},
   "outputs": [
    {
     "data": {
      "image/png": "[encoded data removed]",
      "text/plain": [
       "<Figure size 432x288 with 1 Axes>"
      ]
     },
     "metadata": {
      "needs_background": "light"
     },
     "output_type": "display_data"
    }
   ],
   "source": [
    "import numpy as np\n",
    "import matplotlib.pyplot as plt\n",
    "%matplotlib inline \n",
    "\n",
    "pos = np.arange(len(train_cal.keys()))\n",
    "\n",
    "width = 1.0     # gives histogram aspect to the bar diagram\n",
    "\n",
    "ax = plt.axes()\n",
    "ax.set_xticks(list(train_cal.keys()))\n",
    "ax.set_xticklabels(train_cal.keys())\n",
    "\n",
    "plt.bar(train_cal.keys(), train_cal.values(), width, color='r')\n",
    "\n",
    "plt.show()"
   ]
  },
  {
   "cell_type": "code",
   "execution_count": null,
   "metadata": {},
   "outputs": [],
   "source": []
  },
  {
   "cell_type": "code",
   "execution_count": 29,
   "metadata": {},
   "outputs": [],
   "source": [
    "import pygraphviz as pgv\n",
    "G=pgv.AGraph(strict=False,directed=True)\n",
    "import itertools"
   ]
  },
  {
   "cell_type": "code",
   "execution_count": 63,
   "metadata": {},
   "outputs": [
    {
     "name": "stdout",
     "output_type": "stream",
     "text": [
      "Directory ./saved_models/parser/test/2 do not exist; creating...\n",
      "Directory ./saved_models/parser/test/5 do not exist; creating...\n",
      "Directory ./saved_models/parser/test/6 do not exist; creating...\n",
      "Directory ./saved_models/parser/test/16 do not exist; creating...\n",
      "Directory ./saved_models/parser/test/22 do not exist; creating...\n",
      "Directory ./saved_models/parser/test/1 do not exist; creating...\n",
      "Directory ./saved_models/parser/test/9 do not exist; creating...\n",
      "Directory ./saved_models/parser/test/35 do not exist; creating...\n",
      "Directory ./saved_models/parser/test/11 do not exist; creating...\n",
      "Directory ./saved_models/parser/test/8 do not exist; creating...\n",
      "Directory ./saved_models/parser/test/25 do not exist; creating...\n",
      "Directory ./saved_models/parser/test/4 do not exist; creating...\n",
      "Directory ./saved_models/parser/test/18 do not exist; creating...\n",
      "Directory ./saved_models/parser/test/3 do not exist; creating...\n",
      "Directory ./saved_models/parser/test/20 do not exist; creating...\n",
      "Directory ./saved_models/parser/test/26 do not exist; creating...\n",
      "Directory ./saved_models/parser/test/37 do not exist; creating...\n",
      "Directory ./saved_models/parser/test/36 do not exist; creating...\n",
      "Directory ./saved_models/parser/test/13 do not exist; creating...\n",
      "Directory ./saved_models/parser/test/12 do not exist; creating...\n",
      "Directory ./saved_models/parser/test/17 do not exist; creating...\n",
      "Directory ./saved_models/parser/test/10 do not exist; creating...\n",
      "Directory ./saved_models/parser/test/19 do not exist; creating...\n",
      "Directory ./saved_models/parser/test/27 do not exist; creating...\n",
      "Directory ./saved_models/parser/test/24 do not exist; creating...\n",
      "Directory ./saved_models/parser/test/32 do not exist; creating...\n",
      "Directory ./saved_models/parser/test/31 do not exist; creating...\n",
      "Directory ./saved_models/parser/test/39 do not exist; creating...\n",
      "Directory ./saved_models/parser/test/15 do not exist; creating...\n",
      "Directory ./saved_models/parser/test/30 do not exist; creating...\n"
     ]
    }
   ],
   "source": [
    "import itertools\n",
    "\n",
    "TARGET = 18\n",
    "\n",
    "for batch in itertools.islice(test_batch, 15):\n",
    "    inputs, labels, tokens, head, subj_pos, obj_pos, lens = unpack_batch(batch)\n",
    "    words, masks, pos, ner, deprel, head, subj_pos, obj_pos, subj_type, obj_type, piece_pos = inputs\n",
    "    lens = (masks.data.cpu().numpy() == 0).astype(np.int64).sum(1)\n",
    "    \n",
    "    for i, wd in enumerate(words):\n",
    "        G.node_attr['shape']='box'\n",
    "        G.edge_attr['color']='black'\n",
    "        G.graph_attr['rankdir'] = 'LR'\n",
    "\n",
    "        if int(labels[i]) == 0:\n",
    "            continue\n",
    "        wd_list = vocab.unmap(wd.int().tolist())\n",
    "        dep_list = deprel[i].tolist()\n",
    "        hd_list = head[i].tolist()\n",
    "        \n",
    "        fig_path = './saved_models/parser/test/' + str(int(labels[i]))\n",
    "        helper.ensure_dir(fig_path)\n",
    "        \n",
    "        for j in range(lens[i]-1):\n",
    "            s = str(j) + '_' + wd_list[j]\n",
    "            t = str(j+1) + '_' + wd_list[j+1]\n",
    "            G.add_edge(s, t, color='black')\n",
    "            \n",
    "        for j in range(lens[i]):\n",
    "            k = int(head[i][j]) - 1\n",
    "            if k == -1:\n",
    "                continue\n",
    "            s = str(j) + '_' + wd_list[j]\n",
    "            t = str(k) + '_' + wd_list[k]\n",
    "            rel = str(int(deprel[i][j])) + '_' + id_to_deprel[int(deprel[i][j])]\n",
    "            if int(deprel[i][j]) == TARGET:\n",
    "                G.add_edge(s, t, color='red', label=rel)\n",
    "            else:\n",
    "                G.add_edge(s, t, color='blue', label=rel)\n",
    "\n",
    "        filename = '_'.join(wd_list[:6])\n",
    "        G.layout(prog='dot')\n",
    "        G.draw(fig_path + '/' + filename + '.png')\n",
    "        G.clear()"
   ]
  }
 ],
 "metadata": {
  "kernelspec": {
   "display_name": "Python 3",
   "language": "python",
   "name": "python3"
  },
  "language_info": {
   "codemirror_mode": {
    "name": "ipython",
    "version": 3
   },
   "file_extension": ".py",
   "mimetype": "text/x-python",
   "name": "python",
   "nbconvert_exporter": "python",
   "pygments_lexer": "ipython3",
   "version": "3.6.7"
  }
 },
 "nbformat": 4,
 "nbformat_minor": 2
}
